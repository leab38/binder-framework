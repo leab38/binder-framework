{
 "cells": [
  {
   "cell_type": "code",
   "execution_count": null,
   "metadata": {},
   "outputs": [],
   "source": [
    "import pandas as pd\n",
    "\n",
    "# Read the CSV of Value of Energy Cost Savings and check the head of the dataframe\n",
    "df = pd.read_csv(\"C:/Users/leab3/Documents/Data Incubator/Pre-Project/Value_of_Energy_Cost_Savings_Program_Savings_for_Businesses_-_FY2020.csv\", parse_dates=True)\n",
    "df.head()"
   ]
  },
  {
   "cell_type": "code",
   "execution_count": null,
   "metadata": {},
   "outputs": [],
   "source": [
    "# 1. How many companies are listed in the file?\n",
    "len(pd.unique(df[\"Company Name\"]))"
   ]
  },
  {
   "cell_type": "code",
   "execution_count": null,
   "metadata": {},
   "outputs": [],
   "source": [
    "# 2. What is the total number of jobs created for businesses in Queens?\n",
    "df[df['Borough']=='Queens']['Job created'].sum()"
   ]
  },
  {
   "cell_type": "code",
   "execution_count": null,
   "metadata": {},
   "outputs": [],
   "source": [
    "# 3. How many different unique email domains names are there in the data set?\n",
    "len(pd.unique(df['company email'].str.split('@').str[-1]))"
   ]
  },
  {
   "cell_type": "code",
   "execution_count": null,
   "metadata": {},
   "outputs": [],
   "source": [
    "# 4. Considering only NTAs with at least 5 listed businesses, what is the average total savings and the total jobs created for each NTA?\n",
    "NTA_over_5 = df[df['NTA'].map(df['NTA'].value_counts())>5].groupby(['NTA'],as_index=False).agg({'Total Savings': ['mean'], 'Job created': ['count']})\n",
    "NTA_over_5.columns = NTA_over_5.columns.get_level_values(0)\n",
    "NTA_over_5.columns = ['NTA','Avg Total Savings','Jobs created']"
   ]
  },
  {
   "cell_type": "code",
   "execution_count": null,
   "metadata": {},
   "outputs": [],
   "source": [
    "# 5. Save result as CSV\n",
    "NTA_over_5.to_csv(\"C:/Users/leab3/Documents/Data Incubator/Pre-Project/Value_of_Energy_Cost_Savings_Program_Savings_for_Businesses_-_FY2020_NAT_over_5.csv\")"
   ]
  },
  {
   "cell_type": "code",
   "execution_count": null,
   "metadata": {},
   "outputs": [],
   "source": [
    "# Day 5: Plotting in MatPlotLib\n",
    "from calendar import month\n",
    "import math\n",
    "import matplotlib as mpl\n",
    "import matplotlib.pyplot as plt\n",
    "import matplotlib.dates as mdates\n",
    "import numpy as np\n",
    "import seaborn as sns\n",
    "\n",
    "# Set up standard scale scatter plot and show\n",
    "plt.scatter(NTA_over_5['Avg Total Savings'],NTA_over_5['Jobs created'])\n",
    "plt.xlabel('Avg Total Savings')\n",
    "plt.ylabel('Jobs Created')\n",
    "plt.title('Scatter Plot - Standard Scale')\n",
    "plt.show()\n",
    "\n",
    "# Set up logarithmic scale scatter plot and show\n",
    "print(\"Scatter Plot - Standard Scale: \")\n",
    "NTA_over_5['Log Avg Total Savings']=np.log(NTA_over_5['Avg Total Savings'])\n",
    "plt.scatter(NTA_over_5['Log Avg Total Savings'],NTA_over_5['Jobs created'])\n",
    "plt.xlabel('Total Savings')\n",
    "plt.ylabel('Jobs Created')\n",
    "plt.title('Scatter Plot - Logarithmic Scale')\n",
    "plt.show()\n",
    "\n",
    "# Set up histogram of the log of total average savings\n",
    "plt.hist(NTA_over_5['Log Avg Total Savings'])\n",
    "plt.title('Histogram')\n",
    "plt.show()\n",
    "\n",
    "# Create month and year column\n",
    "df['Effective Date']=pd.to_datetime(df['Effective Date'])\n",
    "df['month'] = pd.DatetimeIndex(df['Effective Date']).month\n",
    "df['year'] = pd.DatetimeIndex(df['Effective Date']).year\n",
    "\n",
    "# Aggregate count of jobs created by month\n",
    "df_month_agg = df.groupby(['month','year'],as_index=False).agg({'Job created': ['count']}).sort_values(by=['year','month'])\n",
    "df_month_agg.columns = df_month_agg.columns.get_level_values(0)\n",
    "df_date_agg = df.groupby(['Effective Date'],as_index=False).agg({'Job created': ['count']}).sort_values(by=['Effective Date'])\n",
    "df_date_agg.columns = df_date_agg.columns.get_level_values(0)\n",
    "\n",
    "# Line plot\n",
    "plt.plot(df_month_agg['month'],df_month_agg['Job created'])\n",
    "plt.title('Line plot of count of jobs created by month')\n",
    "plt.xlabel('Month')\n",
    "plt.ylabel('Jobs Created')\n",
    "plt.show()\n",
    "\n",
    "# Month/Year plot\n",
    "sns.relplot(data=df_month_agg, x=\"month\", y=\"Job created\", hue=\"year\", kind=\"line\")\n",
    "plt.xlabel('Month')\n",
    "plt.ylabel('Jobs Created')\n",
    "plt.title('Line plot - Total jobs created by month')\n",
    "plt.show()"
   ]
  },
  {
   "cell_type": "code",
   "execution_count": null,
   "metadata": {},
   "outputs": [],
   "source": []
  }
 ],
 "metadata": {
  "language_info": {
   "name": "python"
  },
  "orig_nbformat": 4
 },
 "nbformat": 4,
 "nbformat_minor": 2
}
